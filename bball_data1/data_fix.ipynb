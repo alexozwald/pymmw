{
 "cells": [
  {
   "cell_type": "code",
   "execution_count": 7,
   "metadata": {},
   "outputs": [],
   "source": [
    "import orjson\n",
    "import pandas as pd\n",
    "import json\n",
    "import numpy as np\n",
    "from pprint import pp"
   ]
  },
  {
   "cell_type": "code",
   "execution_count": 2,
   "metadata": {},
   "outputs": [],
   "source": [
    "with open(\"./part1.log.json\",'r') as f:\n",
    "    j = json.load(f)"
   ]
  },
  {
   "cell_type": "code",
   "execution_count": 3,
   "metadata": {},
   "outputs": [],
   "source": [
    "with open(\"./part2.log.json\",'br') as f:\n",
    "    jj = orjson.loads(f.read())"
   ]
  },
  {
   "cell_type": "code",
   "execution_count": 4,
   "metadata": {},
   "outputs": [
    {
     "name": "stdout",
     "output_type": "stream",
     "text": [
      "10252\n",
      "15902\n"
     ]
    }
   ],
   "source": [
    "print(len(j))\n",
    "print(len(jj))\n"
   ]
  },
  {
   "cell_type": "code",
   "execution_count": 10,
   "metadata": {},
   "outputs": [
    {
     "name": "stdout",
     "output_type": "stream",
     "text": [
      "{'ts': 1675020717315,\n",
      " 'dataFrame': {'header': {'version': 3060000,\n",
      "                          'length': 96,\n",
      "                          'platform': 106843,\n",
      "                          'number': 1,\n",
      "                          'time': 301735418,\n",
      "                          'objects': 1,\n",
      "                          'blocks': 2,\n",
      "                          'subframe': 0},\n",
      "               'detected_points': {'0,0': {'v': 1.7459506242224345e-39,\n",
      "                                           'x': 1.401298464324817e-45,\n",
      "                                           'y': 3.8588210193832474e-34,\n",
      "                                           'z': 0.0}}}}\n"
     ]
    }
   ],
   "source": [
    "# sample structure:\n",
    "pp(j[0])"
   ]
  },
  {
   "attachments": {},
   "cell_type": "markdown",
   "metadata": {},
   "source": [
    "### FILENAMES\n",
    "\n",
    "Modified Logging Class\n",
    "-   create & open file (`TIME_ISO_LONG.json.log`)\n",
    "-   \n"
   ]
  },
  {
   "cell_type": "code",
   "execution_count": 11,
   "metadata": {},
   "outputs": [
    {
     "data": {
      "text/plain": [
       "(10, 3671)"
      ]
     },
     "execution_count": 11,
     "metadata": {},
     "output_type": "execute_result"
    }
   ],
   "source": [
    "max, idx = (0,0), 0\n",
    "for i in j:\n",
    "    if len(i['dataFrame']['detected_points']) > max[0]:\n",
    "        max = (i['dataFrame']['header']['objects'], idx)\n",
    "    idx += 1\n",
    "max"
   ]
  },
  {
   "cell_type": "code",
   "execution_count": 12,
   "metadata": {},
   "outputs": [
    {
     "name": "stdout",
     "output_type": "stream",
     "text": [
      "interim_arr = [0.01831360161304474, 0.29244476556777954, 0.0, 0.0]\n",
      "interim_arr = [-0.40289923548698425, 1.100645899772644, 0.0, 0.0]\n",
      "interim_arr = [1.4834017753601074, 2.1803956031799316, 0.0, 0.0]\n",
      "[[0.01831360161304474, 0.29244476556777954, 0.0, 0.0], [-0.40289923548698425, 1.100645899772644, 0.0, 0.0], [1.4834017753601074, 2.1803956031799316, 0.0, 0.0]]\n"
     ]
    },
    {
     "data": {
      "text/plain": [
       "'[[0.01831360161304474, 0.29244476556777954, 0.0, 0.0], [-0.40289923548698425, 1.100645899772644, 0.0, 0.0], [1.4834017753601074, 2.1803956031799316, 0.0, 0.0]]'"
      ]
     },
     "execution_count": 12,
     "metadata": {},
     "output_type": "execute_result"
    }
   ],
   "source": [
    "arr = []  #arr = np.array([], dtype=np.ndarray)\n",
    "for pt in j[300]['dataFrame']['detected_points'].values():\n",
    "    interim_arr = [pt['x'], pt['y'], pt['z'], pt['v']] # np.array([pt['x'], pt['y'], pt['z'], pt['v']])\n",
    "    print(f\"interim_arr = {interim_arr}\")\n",
    "    arr.append(interim_arr) #arr = np.append(arr, interim_arr, )\n",
    "print(arr)\n",
    "str(arr)"
   ]
  },
  {
   "cell_type": "code",
   "execution_count": 13,
   "metadata": {},
   "outputs": [],
   "source": [
    "def clean_ugly_json(j: dict):\n",
    "    data_clean = []\n",
    "    idx = 0\n",
    "    for i in j:\n",
    "        lvl, arr = {}, []\n",
    "        lvl['idx'] = int(idx)\n",
    "        lvl['ts'] = int(i['ts'])\n",
    "        for pt in i['dataFrame']['detected_points'].values():\n",
    "            interim_arr = [pt['x'], pt['y'], pt['z'], pt['v']] # np.array([pt['x'], pt['y'], pt['z'], pt['v']])\n",
    "            arr.append(interim_arr) #arr = np.append(arr, interim_arr, )\n",
    "        lvl['xyzv'] = arr # str(arr).replace(' ','')\n",
    "        data_clean.append(lvl)\n",
    "        idx += 1\n",
    "    return data_clean"
   ]
  },
  {
   "cell_type": "code",
   "execution_count": 14,
   "metadata": {},
   "outputs": [],
   "source": [
    "clean_part1 = clean_ugly_json(j)\n",
    "clean_part2 = clean_ugly_json(jj)"
   ]
  },
  {
   "cell_type": "code",
   "execution_count": 15,
   "metadata": {},
   "outputs": [
    {
     "data": {
      "text/plain": [
       "'{\"idx\": 3671, \"ts\": 1675020949678, \"xyzv\": [[2.856921911239624, 7.062499523162842, 0.0, 0.0], [0.2380768209695816, 7.614737510681152, 0.0, 0.0], [-6.107585906982422, 5.908052921295166, 0.0, 0.0], [6.647837162017822, 7.0218987464904785, 0.0, 0.0], [-0.16482241451740265, 2.632002830505371, 0.0, 0.45513731241226196], [0.0, 2.3441410064697266, 0.0, 1.8205492496490479], [0.1831360161304474, 2.924447536468506, 0.0, 6.371922492980957], [-0.3662720322608948, 2.907194137573242, 0.0, -1.8205492496490479], [-0.24723362922668457, 2.6255440711975098, 0.0, -0.9102746248245239], [-0.2747040390968323, 2.917271137237549, 0.0, -0.9102746248245239]]}'"
      ]
     },
     "execution_count": 15,
     "metadata": {},
     "output_type": "execute_result"
    }
   ],
   "source": [
    "#json.dump(clean_part1[3671:3677])\n",
    "f\"{json.dumps(clean_part1[3671])}\""
   ]
  },
  {
   "cell_type": "code",
   "execution_count": 16,
   "metadata": {},
   "outputs": [
    {
     "name": "stdout",
     "output_type": "stream",
     "text": [
      "{'0,0': {'v': 0.0, 'x': -1.098816156387329, 'y': 0.9690645933151245, 'z': 0.0},\n",
      " '1,1': {'v': 0.45513731241226196,\n",
      "         'x': 2.6920993328094482,\n",
      "         'y': 5.533223628997803,\n",
      "         'z': 0.0},\n",
      " '2,2': {'v': 0.45513731241226196,\n",
      "         'x': 4.633341312408447,\n",
      "         'y': 4.894051551818848,\n",
      "         'z': 0.0},\n",
      " '3,3': {'v': 0.45513731241226196,\n",
      "         'x': 2.3166706562042236,\n",
      "         'y': 6.328714370727539,\n",
      "         'z': 0.0},\n",
      " '4,4': {'v': 1.8205492496490479,\n",
      "         'x': 0.4486832320690155,\n",
      "         'y': 2.0014469623565674,\n",
      "         'z': 0.0}}\n"
     ]
    }
   ],
   "source": [
    "pp(jj[3671]['dataFrame']['detected_points'])"
   ]
  },
  {
   "cell_type": "code",
   "execution_count": 17,
   "metadata": {},
   "outputs": [],
   "source": [
    "# write the better files\n",
    "with open('./clean_part1.json', 'w') as f1:\n",
    "    json.dump(clean_part1, f1)\n",
    "with open('./clean_part2.json', 'w') as f2:\n",
    "    json.dump(clean_part1, f2)"
   ]
  },
  {
   "cell_type": "code",
   "execution_count": 24,
   "metadata": {},
   "outputs": [
    {
     "name": "stdout",
     "output_type": "stream",
     "text": [
      "{'idx': 0,\n",
      " 'ts': 1675020717315,\n",
      " 'xyzv': [[1.401298464324817e-45,\n",
      "           3.8588210193832474e-34,\n",
      "           0.0,\n",
      "           1.7459506242224345e-39]],\n",
      " 'bball': 'NULL'}\n"
     ]
    }
   ],
   "source": [
    "pp(clean_part1[0]|{'bball':'NULL'})"
   ]
  },
  {
   "cell_type": "code",
   "execution_count": null,
   "metadata": {},
   "outputs": [],
   "source": []
  }
 ],
 "metadata": {
  "kernelspec": {
   "display_name": "neu",
   "language": "python",
   "name": "python3"
  },
  "language_info": {
   "codemirror_mode": {
    "name": "ipython",
    "version": 3
   },
   "file_extension": ".py",
   "mimetype": "text/x-python",
   "name": "python",
   "nbconvert_exporter": "python",
   "pygments_lexer": "ipython3",
   "version": "3.9.16"
  },
  "orig_nbformat": 4,
  "vscode": {
   "interpreter": {
    "hash": "28cb929f5309d70f0df62fcb559b6451448fc609f2352aa39f9f5e632d6fd67c"
   }
  }
 },
 "nbformat": 4,
 "nbformat_minor": 2
}
