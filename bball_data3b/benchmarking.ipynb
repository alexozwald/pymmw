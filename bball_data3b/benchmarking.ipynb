{
 "cells": [
  {
   "cell_type": "code",
   "execution_count": 253,
   "metadata": {},
   "outputs": [],
   "source": [
    "import pandas as pd\n",
    "import plotly.express as px\n",
    "import numpy as np\n",
    "import json\n",
    "import json5"
   ]
  },
  {
   "cell_type": "code",
   "execution_count": 254,
   "metadata": {},
   "outputs": [
    {
     "data": {
      "text/plain": [
       "<generator object find.<locals>.device_iter at 0x124b415f0>"
      ]
     },
     "execution_count": 254,
     "metadata": {},
     "output_type": "execute_result"
    }
   ],
   "source": [
    "import usb\n",
    "usb.core.find(find_all=True)"
   ]
  },
  {
   "cell_type": "code",
   "execution_count": 281,
   "metadata": {},
   "outputs": [],
   "source": [
    "#pd.read_json(\"./log/pymmw_2023-01-29_23-54-25.log\", lines=True)\n",
    "i = 0\n",
    "with open(\"./log/pymmw_2023-01-29_23-54-25.log\", 'r') as f:\n",
    "    l = []\n",
    "    for line in f:\n",
    "        try:\n",
    "            l.append(json5.loads(line))\n",
    "        except:\n",
    "            pass\n",
    "        if i == 5:\n",
    "            break\n",
    "        i+= 1\n",
    "l\n",
    "t = [i['ts'] for i in l]"
   ]
  },
  {
   "cell_type": "code",
   "execution_count": 309,
   "metadata": {},
   "outputs": [],
   "source": [
    "def parse_dframe(d: dict, IDX: int = 0):\n",
    "    ts = pd.Timestamp.now()\n",
    "    df = pd.DataFrame.from_dict(d['detected_points'], orient='index').reset_index(drop=True).assign(frame=IDX, ts=ts)\n",
    "    return {\n",
    "        'ts':   ts,\n",
    "        'frame': IDX,\n",
    "        'xyzv': df[['x','y','z','v']].to_numpy().tolist()\n",
    "    }\n",
    "def parse_df(d: dict, idx: int = 0):\n",
    "    ts = pd.to_datetime(d['ts'], unit='ms')\n",
    "    df = pd.DataFrame.from_dict(d['dataFrame']['detected_points'], orient='index').reset_index(drop=True).assign(frame=idx, ts=ts)\n",
    "    return df"
   ]
  },
  {
   "cell_type": "code",
   "execution_count": 301,
   "metadata": {},
   "outputs": [
    {
     "data": {
      "text/plain": [
       "Timestamp('2023-03-14 21:41:36.007000')"
      ]
     },
     "execution_count": 301,
     "metadata": {},
     "output_type": "execute_result"
    }
   ],
   "source": [
    "_ = parse_dframe(l[0]['dataFrame'])\n",
    "_.pop('frame',None)\n",
    "_\n",
    "pd.Series(pd.to_datetime(t, unit='ms')).dtypes\n",
    "pd.to_datetime(1678830096007, unit='ms')"
   ]
  },
  {
   "cell_type": "code",
   "execution_count": 334,
   "metadata": {},
   "outputs": [],
   "source": [
    "def read_log(file_str) -> pd.DataFrame:\n",
    "    with open(file_str, 'r') as f:\n",
    "        l, i = [], 0\n",
    "        for line in f:\n",
    "            try:\n",
    "                l.append(json5.loads(line)|{'frame':i})\n",
    "            except:\n",
    "                pass\n",
    "            i+= 1\n",
    "    df = pd.DataFrame()\n",
    "    for row in l:\n",
    "        df = pd.concat([df, parse_df(row, row['frame'])])\n",
    "    return df"
   ]
  },
  {
   "cell_type": "code",
   "execution_count": 335,
   "metadata": {},
   "outputs": [],
   "source": [
    "df = read_log(\"./log/pymmw_2023-01-29_23-54-25.log\")"
   ]
  },
  {
   "cell_type": "code",
   "execution_count": 377,
   "metadata": {},
   "outputs": [],
   "source": [
    "S = df[df['v'] == df['v'].max()].iloc[0]\n",
    "tss = df['ts']\n",
    "tsss = (df['ts'].astype(int) / 10**6).astype(int)\n",
    "tss_ = S['ts']\n",
    "tsss_ = int(S['ts'].to_datetime64().astype(int) / 10**6)"
   ]
  },
  {
   "cell_type": "code",
   "execution_count": 378,
   "metadata": {},
   "outputs": [
    {
     "name": "stdout",
     "output_type": "stream",
     "text": [
      "6.68 µs ± 31.9 ns per loop (mean ± std. dev. of 7 runs, 100,000 loops each)\n"
     ]
    }
   ],
   "source": [
    "%timeit tss_ in tss.values"
   ]
  },
  {
   "cell_type": "code",
   "execution_count": 379,
   "metadata": {},
   "outputs": [
    {
     "name": "stdout",
     "output_type": "stream",
     "text": [
      "2.39 µs ± 30.2 ns per loop (mean ± std. dev. of 7 runs, 100,000 loops each)\n"
     ]
    }
   ],
   "source": [
    "%timeit tsss_ in tsss.values"
   ]
  },
  {
   "cell_type": "code",
   "execution_count": 381,
   "metadata": {},
   "outputs": [
    {
     "data": {
      "text/plain": [
       "True"
      ]
     },
     "execution_count": 381,
     "metadata": {},
     "output_type": "execute_result"
    }
   ],
   "source": [
    "tss_  in tss.values"
   ]
  },
  {
   "cell_type": "code",
   "execution_count": 388,
   "metadata": {},
   "outputs": [
    {
     "name": "stdout",
     "output_type": "stream",
     "text": [
      "2.08 µs ± 33 ns per loop (mean ± std. dev. of 7 runs, 100,000 loops each)\n"
     ]
    }
   ],
   "source": [
    "%timeit int(pd.Timestamp.now().to_datetime64().astype(int) / 10**6)"
   ]
  },
  {
   "cell_type": "code",
   "execution_count": 398,
   "metadata": {},
   "outputs": [
    {
     "data": {
      "text/plain": [
       "1679365421230"
      ]
     },
     "execution_count": 398,
     "metadata": {},
     "output_type": "execute_result"
    }
   ],
   "source": [
    "int(pd.Timestamp.now().to_datetime64().astype(int) / 10**6)"
   ]
  },
  {
   "cell_type": "code",
   "execution_count": 402,
   "metadata": {},
   "outputs": [
    {
     "data": {
      "text/plain": [
       "[-0.07325440645217896, 1.1697790622711182, 0.0, 5.461647987365723]"
      ]
     },
     "execution_count": 402,
     "metadata": {},
     "output_type": "execute_result"
    }
   ],
   "source": [
    "S[['x','y','z','v']].tolist()"
   ]
  },
  {
   "cell_type": "code",
   "execution_count": 410,
   "metadata": {},
   "outputs": [
    {
     "data": {
      "text/plain": [
       "0   2023-01-29 23:56:09.945\n",
       "dtype: datetime64[ns]"
      ]
     },
     "execution_count": 410,
     "metadata": {},
     "output_type": "execute_result"
    }
   ],
   "source": [
    "pd.Series(S['ts'])"
   ]
  },
  {
   "cell_type": "code",
   "execution_count": 413,
   "metadata": {},
   "outputs": [
    {
     "name": "stdout",
     "output_type": "stream",
     "text": [
      "127 µs ± 2.94 µs per loop (mean ± std. dev. of 7 runs, 10,000 loops each)\n"
     ]
    }
   ],
   "source": [
    "%timeit x = {'ts':S['ts'],'frame':i,'xyzv':S[['x','y','z','v']].to_numpy().tolist()}"
   ]
  },
  {
   "cell_type": "code",
   "execution_count": 415,
   "metadata": {},
   "outputs": [
    {
     "name": "stdout",
     "output_type": "stream",
     "text": [
      "449 µs ± 9.17 µs per loop (mean ± std. dev. of 7 runs, 1,000 loops each)\n"
     ]
    }
   ],
   "source": [
    "%timeit x = dict(ts=S['ts'],frame=i,xyzv=df[['x','y','z','v']].to_numpy().tolist())"
   ]
  },
  {
   "cell_type": "code",
   "execution_count": 417,
   "metadata": {},
   "outputs": [
    {
     "data": {
      "text/plain": [
       "6"
      ]
     },
     "execution_count": 417,
     "metadata": {},
     "output_type": "execute_result"
    }
   ],
   "source": [
    "len(S)"
   ]
  },
  {
   "cell_type": "code",
   "execution_count": 419,
   "metadata": {},
   "outputs": [
    {
     "name": "stdout",
     "output_type": "stream",
     "text": [
      "{'v': 5.461647987365723, 'x': -0.07325440645217896, 'y': 1.1697790622711182, 'z': 0.0, 'frame': 1602, 'ts': Timestamp('2023-01-29 23:56:09.945000')}\n"
     ]
    }
   ],
   "source": [
    "print(S.to_dict())"
   ]
  },
  {
   "cell_type": "code",
   "execution_count": 426,
   "metadata": {},
   "outputs": [
    {
     "data": {
      "text/html": [
       "<div>\n",
       "<style scoped>\n",
       "    .dataframe tbody tr th:only-of-type {\n",
       "        vertical-align: middle;\n",
       "    }\n",
       "\n",
       "    .dataframe tbody tr th {\n",
       "        vertical-align: top;\n",
       "    }\n",
       "\n",
       "    .dataframe thead th {\n",
       "        text-align: right;\n",
       "    }\n",
       "</style>\n",
       "<table border=\"1\" class=\"dataframe\">\n",
       "  <thead>\n",
       "    <tr style=\"text-align: right;\">\n",
       "      <th></th>\n",
       "      <th>v</th>\n",
       "      <th>x</th>\n",
       "      <th>y</th>\n",
       "      <th>z</th>\n",
       "      <th>frame</th>\n",
       "      <th>ts</th>\n",
       "      <th>outliers</th>\n",
       "      <th>model</th>\n",
       "    </tr>\n",
       "  </thead>\n",
       "  <tbody>\n",
       "  </tbody>\n",
       "</table>\n",
       "</div>"
      ],
      "text/plain": [
       "Empty DataFrame\n",
       "Columns: [v, x, y, z, frame, ts, outliers, model]\n",
       "Index: []"
      ]
     },
     "execution_count": 426,
     "metadata": {},
     "output_type": "execute_result"
    }
   ],
   "source": [
    "dff = df.loc[df['z'] > 10]\n",
    "dff.assign(outliers=0, model=0)"
   ]
  },
  {
   "cell_type": "code",
   "execution_count": null,
   "metadata": {},
   "outputs": [],
   "source": [
    "S = df[df['v'] == df['v'].max()].iloc[0]\n",
    "S['ts'] in tss.values"
   ]
  },
  {
   "cell_type": "code",
   "execution_count": 436,
   "metadata": {},
   "outputs": [
    {
     "data": {
      "text/plain": [
       "0    1675036467759\n",
       "1    1675036467759\n",
       "2    1675036467759\n",
       "0    1675036467809\n",
       "1    1675036467809\n",
       "         ...      \n",
       "0    1675036671881\n",
       "0    1675036671931\n",
       "0    1675036671981\n",
       "0    1675036672030\n",
       "0    1675036569945\n",
       "Length: 4476, dtype: int64"
      ]
     },
     "execution_count": 436,
     "metadata": {},
     "output_type": "execute_result"
    }
   ],
   "source": [
    "pd.concat([tsss, pd.Series(tsss_)])"
   ]
  },
  {
   "cell_type": "code",
   "execution_count": 440,
   "metadata": {},
   "outputs": [
    {
     "data": {
      "text/html": [
       "<div>\n",
       "<style scoped>\n",
       "    .dataframe tbody tr th:only-of-type {\n",
       "        vertical-align: middle;\n",
       "    }\n",
       "\n",
       "    .dataframe tbody tr th {\n",
       "        vertical-align: top;\n",
       "    }\n",
       "\n",
       "    .dataframe thead th {\n",
       "        text-align: right;\n",
       "    }\n",
       "</style>\n",
       "<table border=\"1\" class=\"dataframe\">\n",
       "  <thead>\n",
       "    <tr style=\"text-align: right;\">\n",
       "      <th></th>\n",
       "      <th>fds</th>\n",
       "      <th>fdsd</th>\n",
       "      <th>fddd</th>\n",
       "    </tr>\n",
       "  </thead>\n",
       "  <tbody>\n",
       "  </tbody>\n",
       "</table>\n",
       "</div>"
      ],
      "text/plain": [
       "Empty DataFrame\n",
       "Columns: [fds, fdsd, fddd]\n",
       "Index: []"
      ]
     },
     "execution_count": 440,
     "metadata": {},
     "output_type": "execute_result"
    }
   ],
   "source": [
    "_df_ = pd.DataFrame(columns=['fds','fdsd','fddd'])\n",
    "_df_.loc[_df_['fds'] == _df_['fds'].max()]"
   ]
  },
  {
   "cell_type": "code",
   "execution_count": 466,
   "metadata": {},
   "outputs": [
    {
     "data": {
      "text/plain": [
       "[-0.07325440645217896, 1.1697790622711182, 0.0, 5.461647987365723]"
      ]
     },
     "execution_count": 466,
     "metadata": {},
     "output_type": "execute_result"
    }
   ],
   "source": [
    "dff = df.loc[df['v'] == df['v'].max()]\n",
    "#dff[['x','y','z','v']].iloc[0].tolist()\n",
    "dff[['x','y','z','v']].iloc[0].tolist()\n",
    "df.copy(deep=True).assign(w=90)\n",
    "dff[['x','y','z','v']].iloc[0].tolist()"
   ]
  },
  {
   "cell_type": "code",
   "execution_count": 324,
   "metadata": {},
   "outputs": [
    {
     "data": {
      "text/html": [
       "<div>\n",
       "<style scoped>\n",
       "    .dataframe tbody tr th:only-of-type {\n",
       "        vertical-align: middle;\n",
       "    }\n",
       "\n",
       "    .dataframe tbody tr th {\n",
       "        vertical-align: top;\n",
       "    }\n",
       "\n",
       "    .dataframe thead th {\n",
       "        text-align: right;\n",
       "    }\n",
       "</style>\n",
       "<table border=\"1\" class=\"dataframe\">\n",
       "  <thead>\n",
       "    <tr style=\"text-align: right;\">\n",
       "      <th></th>\n",
       "      <th>x</th>\n",
       "      <th>ts</th>\n",
       "    </tr>\n",
       "  </thead>\n",
       "  <tbody>\n",
       "    <tr>\n",
       "      <th>0</th>\n",
       "      <td>0</td>\n",
       "      <td>5435</td>\n",
       "    </tr>\n",
       "    <tr>\n",
       "      <th>1</th>\n",
       "      <td>543</td>\n",
       "      <td>543</td>\n",
       "    </tr>\n",
       "    <tr>\n",
       "      <th>2</th>\n",
       "      <td>543</td>\n",
       "      <td>543</td>\n",
       "    </tr>\n",
       "  </tbody>\n",
       "</table>\n",
       "</div>"
      ],
      "text/plain": [
       "     x    ts\n",
       "0    0  5435\n",
       "1  543   543\n",
       "2  543   543"
      ]
     },
     "execution_count": 324,
     "metadata": {},
     "output_type": "execute_result"
    }
   ],
   "source": [
    "df = pd.DataFrame(columns=['x','ts'])\n",
    "pd.concat([df.loc[df['ts'] >= 0], pd.DataFrame({'x': [[0,432]], 'ts':[[5435,432]]})])\n",
    "pd.DataFrame({'x': [0,543,543], 'ts':[5435,543,543]})"
   ]
  },
  {
   "cell_type": "code",
   "execution_count": 473,
   "metadata": {},
   "outputs": [
    {
     "data": {
      "text/plain": [
       "nan"
      ]
     },
     "execution_count": 473,
     "metadata": {},
     "output_type": "execute_result"
    }
   ],
   "source": [
    "dff.drop(4)['v'].max()"
   ]
  },
  {
   "cell_type": "code",
   "execution_count": 468,
   "metadata": {},
   "outputs": [
    {
     "data": {
      "text/plain": [
       "{'algorithm': 'best',\n",
       " 'min_cluster_size': 3,\n",
       " 'metric': 'euclidean',\n",
       " 'cluster_selection_method': 'eom',\n",
       " 'alpha': 1.0}"
      ]
     },
     "execution_count": 468,
     "metadata": {},
     "output_type": "execute_result"
    }
   ],
   "source": [
    "HDBSCAN_PARAMS = {\n",
    "            # REF: https://hdbscan.readthedocs.io/en/latest/api.html#hdbscan.hdbscan_.HDBSCAN\n",
    "            'algorithm': 'best',\n",
    "            'min_cluster_size': 3,\n",
    "            'metric': 'euclidean',\n",
    "            'cluster_selection_method': 'eom', # TODO: test 'leaf'\n",
    "            'alpha': 1.0,\n",
    "        }\n",
    "HDBSCAN_PARAMS"
   ]
  },
  {
   "cell_type": "code",
   "execution_count": 325,
   "metadata": {},
   "outputs": [
    {
     "data": {
      "text/plain": [
       "{'min_cluster_size': 3,\n",
       " 'algorithm': 'best',\n",
       " 'alpha': 1.0,\n",
       " 'metric': 'euclidean'}"
      ]
     },
     "execution_count": 325,
     "metadata": {},
     "output_type": "execute_result"
    }
   ],
   "source": [
    "PARAMS = {\n",
    "            'min_cluster_size': 3,\n",
    "            'algorithm':        'best',\n",
    "            'alpha':            1.0,\n",
    "            'metric':           'euclidean',\n",
    "        }\n",
    "PARAMS"
   ]
  },
  {
   "cell_type": "code",
   "execution_count": 331,
   "metadata": {},
   "outputs": [
    {
     "data": {
      "text/html": [
       "<div>\n",
       "<style scoped>\n",
       "    .dataframe tbody tr th:only-of-type {\n",
       "        vertical-align: middle;\n",
       "    }\n",
       "\n",
       "    .dataframe tbody tr th {\n",
       "        vertical-align: top;\n",
       "    }\n",
       "\n",
       "    .dataframe thead th {\n",
       "        text-align: right;\n",
       "    }\n",
       "</style>\n",
       "<table border=\"1\" class=\"dataframe\">\n",
       "  <thead>\n",
       "    <tr style=\"text-align: right;\">\n",
       "      <th></th>\n",
       "      <th>x</th>\n",
       "      <th>ts</th>\n",
       "    </tr>\n",
       "  </thead>\n",
       "  <tbody>\n",
       "  </tbody>\n",
       "</table>\n",
       "</div>"
      ],
      "text/plain": [
       "Empty DataFrame\n",
       "Columns: [x, ts]\n",
       "Index: []"
      ]
     },
     "execution_count": 331,
     "metadata": {},
     "output_type": "execute_result"
    }
   ],
   "source": []
  },
  {
   "cell_type": "code",
   "execution_count": 330,
   "metadata": {},
   "outputs": [
    {
     "name": "stderr",
     "output_type": "stream",
     "text": [
      "/var/folders/8j/pyhkkq5n0fsdymsywt9t5mh00000gn/T/com.apple.shortcuts.mac-helper/ipykernel_76891/1092995800.py:1: FutureWarning: The default dtype for empty Series will be 'object' instead of 'float64' in a future version. Specify a dtype explicitly to silence this warning.\n",
      "  _t = pd.Series()\n"
     ]
    },
    {
     "data": {
      "text/plain": [
       "0   2023-01-29 23:54:27.759\n",
       "1   2023-01-29 23:54:27.809\n",
       "2   2023-01-29 23:54:27.859\n",
       "3   2023-01-29 23:54:27.909\n",
       "4   2023-01-29 23:54:27.959\n",
       "5   2023-01-29 23:54:28.009\n",
       "dtype: datetime64[ns]"
      ]
     },
     "execution_count": 330,
     "metadata": {},
     "output_type": "execute_result"
    }
   ],
   "source": [
    "_t = pd.Series()\n",
    "for i in t:\n",
    "    _t = pd.concat([_t, pd.Series(pd.to_datetime(i,unit='ms'))], ignore_index=True)\n",
    "_t"
   ]
  },
  {
   "cell_type": "code",
   "execution_count": 329,
   "metadata": {},
   "outputs": [
    {
     "name": "stderr",
     "output_type": "stream",
     "text": [
      "/var/folders/8j/pyhkkq5n0fsdymsywt9t5mh00000gn/T/com.apple.shortcuts.mac-helper/ipykernel_76891/1708449439.py:1: FutureWarning: The default dtype for empty Series will be 'object' instead of 'float64' in a future version. Specify a dtype explicitly to silence this warning.\n",
      "  _t = pd.Series()\n"
     ]
    },
    {
     "ename": "TypeError",
     "evalue": "Concatenation operation is not implemented for NumPy arrays, use np.concatenate() instead. Please do not rely on this error; it may not be given on all Python implementations.",
     "output_type": "error",
     "traceback": [
      "\u001b[0;31m---------------------------------------------------------------------------\u001b[0m",
      "\u001b[0;31mTypeError\u001b[0m                                 Traceback (most recent call last)",
      "Cell \u001b[0;32mIn[329], line 3\u001b[0m\n\u001b[1;32m      1\u001b[0m _t \u001b[39m=\u001b[39m pd\u001b[39m.\u001b[39mSeries()\n\u001b[1;32m      2\u001b[0m \u001b[39mfor\u001b[39;00m i \u001b[39min\u001b[39;00m t:\n\u001b[0;32m----> 3\u001b[0m     _t \u001b[39m+\u001b[39m\u001b[39m=\u001b[39m pd\u001b[39m.\u001b[39mto_datetime(i,unit\u001b[39m=\u001b[39m\u001b[39m'\u001b[39m\u001b[39mms\u001b[39m\u001b[39m'\u001b[39m)\n\u001b[1;32m      4\u001b[0m _t\n",
      "File \u001b[0;32m~/.conda/envs/neu/lib/python3.9/site-packages/pandas/core/generic.py:12096\u001b[0m, in \u001b[0;36mNDFrame.__iadd__\u001b[0;34m(self, other)\u001b[0m\n\u001b[1;32m  12094\u001b[0m \u001b[39mdef\u001b[39;00m \u001b[39m__iadd__\u001b[39m(\u001b[39mself\u001b[39m: NDFrameT, other) \u001b[39m-\u001b[39m\u001b[39m>\u001b[39m NDFrameT:\n\u001b[1;32m  12095\u001b[0m     \u001b[39m# error: Unsupported left operand type for + (\"Type[NDFrame]\")\u001b[39;00m\n\u001b[0;32m> 12096\u001b[0m     \u001b[39mreturn\u001b[39;00m \u001b[39mself\u001b[39;49m\u001b[39m.\u001b[39;49m_inplace_method(other, \u001b[39mtype\u001b[39;49m(\u001b[39mself\u001b[39;49m)\u001b[39m.\u001b[39;49m\u001b[39m__add__\u001b[39;49m)\n",
      "File \u001b[0;32m~/.conda/envs/neu/lib/python3.9/site-packages/pandas/core/generic.py:12073\u001b[0m, in \u001b[0;36mNDFrame._inplace_method\u001b[0;34m(self, other, op)\u001b[0m\n\u001b[1;32m  12068\u001b[0m \u001b[39m@final\u001b[39m\n\u001b[1;32m  12069\u001b[0m \u001b[39mdef\u001b[39;00m \u001b[39m_inplace_method\u001b[39m(\u001b[39mself\u001b[39m, other, op):\n\u001b[1;32m  12070\u001b[0m \u001b[39m    \u001b[39m\u001b[39m\"\"\"\u001b[39;00m\n\u001b[1;32m  12071\u001b[0m \u001b[39m    Wrap arithmetic method to operate inplace.\u001b[39;00m\n\u001b[1;32m  12072\u001b[0m \u001b[39m    \"\"\"\u001b[39;00m\n\u001b[0;32m> 12073\u001b[0m     result \u001b[39m=\u001b[39m op(\u001b[39mself\u001b[39;49m, other)\n\u001b[1;32m  12075\u001b[0m     \u001b[39mif\u001b[39;00m (\n\u001b[1;32m  12076\u001b[0m         \u001b[39mself\u001b[39m\u001b[39m.\u001b[39mndim \u001b[39m==\u001b[39m \u001b[39m1\u001b[39m\n\u001b[1;32m  12077\u001b[0m         \u001b[39mand\u001b[39;00m result\u001b[39m.\u001b[39m_indexed_same(\u001b[39mself\u001b[39m)\n\u001b[1;32m  12078\u001b[0m         \u001b[39mand\u001b[39;00m is_dtype_equal(result\u001b[39m.\u001b[39mdtype, \u001b[39mself\u001b[39m\u001b[39m.\u001b[39mdtype)\n\u001b[1;32m  12079\u001b[0m     ):\n\u001b[1;32m  12080\u001b[0m         \u001b[39m# GH#36498 this inplace op can _actually_ be inplace.\u001b[39;00m\n\u001b[1;32m  12081\u001b[0m         \u001b[39mself\u001b[39m\u001b[39m.\u001b[39m_values[:] \u001b[39m=\u001b[39m result\u001b[39m.\u001b[39m_values\n",
      "File \u001b[0;32m~/.conda/envs/neu/lib/python3.9/site-packages/pandas/core/ops/common.py:72\u001b[0m, in \u001b[0;36m_unpack_zerodim_and_defer.<locals>.new_method\u001b[0;34m(self, other)\u001b[0m\n\u001b[1;32m     68\u001b[0m             \u001b[39mreturn\u001b[39;00m \u001b[39mNotImplemented\u001b[39m\n\u001b[1;32m     70\u001b[0m other \u001b[39m=\u001b[39m item_from_zerodim(other)\n\u001b[0;32m---> 72\u001b[0m \u001b[39mreturn\u001b[39;00m method(\u001b[39mself\u001b[39;49m, other)\n",
      "File \u001b[0;32m~/.conda/envs/neu/lib/python3.9/site-packages/pandas/core/arraylike.py:102\u001b[0m, in \u001b[0;36mOpsMixin.__add__\u001b[0;34m(self, other)\u001b[0m\n\u001b[1;32m    100\u001b[0m \u001b[39m@unpack_zerodim_and_defer\u001b[39m(\u001b[39m\"\u001b[39m\u001b[39m__add__\u001b[39m\u001b[39m\"\u001b[39m)\n\u001b[1;32m    101\u001b[0m \u001b[39mdef\u001b[39;00m \u001b[39m__add__\u001b[39m(\u001b[39mself\u001b[39m, other):\n\u001b[0;32m--> 102\u001b[0m     \u001b[39mreturn\u001b[39;00m \u001b[39mself\u001b[39;49m\u001b[39m.\u001b[39;49m_arith_method(other, operator\u001b[39m.\u001b[39;49madd)\n",
      "File \u001b[0;32m~/.conda/envs/neu/lib/python3.9/site-packages/pandas/core/series.py:6259\u001b[0m, in \u001b[0;36mSeries._arith_method\u001b[0;34m(self, other, op)\u001b[0m\n\u001b[1;32m   6257\u001b[0m \u001b[39mdef\u001b[39;00m \u001b[39m_arith_method\u001b[39m(\u001b[39mself\u001b[39m, other, op):\n\u001b[1;32m   6258\u001b[0m     \u001b[39mself\u001b[39m, other \u001b[39m=\u001b[39m ops\u001b[39m.\u001b[39malign_method_SERIES(\u001b[39mself\u001b[39m, other)\n\u001b[0;32m-> 6259\u001b[0m     \u001b[39mreturn\u001b[39;00m base\u001b[39m.\u001b[39;49mIndexOpsMixin\u001b[39m.\u001b[39;49m_arith_method(\u001b[39mself\u001b[39;49m, other, op)\n",
      "File \u001b[0;32m~/.conda/envs/neu/lib/python3.9/site-packages/pandas/core/base.py:1325\u001b[0m, in \u001b[0;36mIndexOpsMixin._arith_method\u001b[0;34m(self, other, op)\u001b[0m\n\u001b[1;32m   1322\u001b[0m rvalues \u001b[39m=\u001b[39m ensure_wrapped_if_datetimelike(rvalues)\n\u001b[1;32m   1324\u001b[0m \u001b[39mwith\u001b[39;00m np\u001b[39m.\u001b[39merrstate(\u001b[39mall\u001b[39m\u001b[39m=\u001b[39m\u001b[39m\"\u001b[39m\u001b[39mignore\u001b[39m\u001b[39m\"\u001b[39m):\n\u001b[0;32m-> 1325\u001b[0m     result \u001b[39m=\u001b[39m ops\u001b[39m.\u001b[39;49marithmetic_op(lvalues, rvalues, op)\n\u001b[1;32m   1327\u001b[0m \u001b[39mreturn\u001b[39;00m \u001b[39mself\u001b[39m\u001b[39m.\u001b[39m_construct_result(result, name\u001b[39m=\u001b[39mres_name)\n",
      "File \u001b[0;32m~/.conda/envs/neu/lib/python3.9/site-packages/pandas/core/ops/array_ops.py:218\u001b[0m, in \u001b[0;36marithmetic_op\u001b[0;34m(left, right, op)\u001b[0m\n\u001b[1;32m    205\u001b[0m \u001b[39m# NB: We assume that extract_array and ensure_wrapped_if_datetimelike\u001b[39;00m\n\u001b[1;32m    206\u001b[0m \u001b[39m#  have already been called on `left` and `right`,\u001b[39;00m\n\u001b[1;32m    207\u001b[0m \u001b[39m#  and `maybe_prepare_scalar_for_op` has already been called on `right`\u001b[39;00m\n\u001b[1;32m    208\u001b[0m \u001b[39m# We need to special-case datetime64/timedelta64 dtypes (e.g. because numpy\u001b[39;00m\n\u001b[1;32m    209\u001b[0m \u001b[39m# casts integer dtypes to timedelta64 when operating with timedelta64 - GH#22390)\u001b[39;00m\n\u001b[1;32m    211\u001b[0m \u001b[39mif\u001b[39;00m (\n\u001b[1;32m    212\u001b[0m     should_extension_dispatch(left, right)\n\u001b[1;32m    213\u001b[0m     \u001b[39mor\u001b[39;00m \u001b[39misinstance\u001b[39m(right, (Timedelta, BaseOffset, Timestamp))\n\u001b[0;32m   (...)\u001b[0m\n\u001b[1;32m    216\u001b[0m     \u001b[39m# Timedelta/Timestamp and other custom scalars are included in the check\u001b[39;00m\n\u001b[1;32m    217\u001b[0m     \u001b[39m# because numexpr will fail on it, see GH#31457\u001b[39;00m\n\u001b[0;32m--> 218\u001b[0m     res_values \u001b[39m=\u001b[39m op(left, right)\n\u001b[1;32m    219\u001b[0m \u001b[39melse\u001b[39;00m:\n\u001b[1;32m    220\u001b[0m     \u001b[39m# TODO we should handle EAs consistently and move this check before the if/else\u001b[39;00m\n\u001b[1;32m    221\u001b[0m     \u001b[39m# (https://github.com/pandas-dev/pandas/issues/41165)\u001b[39;00m\n\u001b[1;32m    222\u001b[0m     _bool_arith_check(op, left, right)\n",
      "\u001b[0;31mTypeError\u001b[0m: Concatenation operation is not implemented for NumPy arrays, use np.concatenate() instead. Please do not rely on this error; it may not be given on all Python implementations."
     ]
    }
   ],
   "source": [
    "_t = pd.Series()\n",
    "for i in t:\n",
    "    _t += pd.to_datetime(i,unit='ms')\n",
    "_t"
   ]
  },
  {
   "attachments": {},
   "cell_type": "markdown",
   "metadata": {},
   "source": [
    "## benchmarking"
   ]
  },
  {
   "cell_type": "code",
   "execution_count": 187,
   "metadata": {},
   "outputs": [
    {
     "name": "stdout",
     "output_type": "stream",
     "text": [
      "772 µs ± 13 µs per loop (mean ± std. dev. of 7 runs, 1,000 loops each)\n"
     ]
    }
   ],
   "source": [
    "%%timeit\n",
    "df, ts = pd.DataFrame(), pd.Timestamp.now()\n",
    "idx = 0\n",
    "d = l[0]['dataFrame']\n",
    "for p in d['detected_points'].values():\n",
    "    df = pd.concat([\n",
    "        df,\n",
    "        pd.Series(p.values(), index=['x','y','z','v']).to_frame().transpose()\n",
    "        #pd.Series(p.values(), index=['x','y','z','v']).to_frame().transpose()\n",
    "        #pd.DataFrame({'x': p['x'], 'y': p['y'], 'z':p['z'], 'v': p['v']})\n",
    "    ])\n",
    "df = df.assign(frame=0, ts=ts)"
   ]
  },
  {
   "cell_type": "code",
   "execution_count": 188,
   "metadata": {},
   "outputs": [
    {
     "name": "stdout",
     "output_type": "stream",
     "text": [
      "768 µs ± 12.6 µs per loop (mean ± std. dev. of 7 runs, 1,000 loops each)\n"
     ]
    }
   ],
   "source": [
    "%%timeit\n",
    "df, ts = pd.DataFrame(), pd.Timestamp.now()\n",
    "idx = 0\n",
    "d = l[0]['dataFrame']\n",
    "for p in d['detected_points'].values():\n",
    "    df = pd.concat([\n",
    "        df,\n",
    "        pd.Series(p.values(), index=['x','y','z','v']).to_frame().T\n",
    "        #pd.Series(p.values(), index=['x','y','z','v']).to_frame().transpose()\n",
    "        #pd.DataFrame({'x': p['x'], 'y': p['y'], 'z':p['z'], 'v': p['v']})\n",
    "    ])\n",
    "df = df.assign(frame=0, ts=ts)"
   ]
  },
  {
   "cell_type": "code",
   "execution_count": 235,
   "metadata": {},
   "outputs": [
    {
     "data": {
      "text/html": [
       "<div>\n",
       "<style scoped>\n",
       "    .dataframe tbody tr th:only-of-type {\n",
       "        vertical-align: middle;\n",
       "    }\n",
       "\n",
       "    .dataframe tbody tr th {\n",
       "        vertical-align: top;\n",
       "    }\n",
       "\n",
       "    .dataframe thead th {\n",
       "        text-align: right;\n",
       "    }\n",
       "</style>\n",
       "<table border=\"1\" class=\"dataframe\">\n",
       "  <thead>\n",
       "    <tr style=\"text-align: right;\">\n",
       "      <th></th>\n",
       "      <th>v</th>\n",
       "      <th>x</th>\n",
       "      <th>y</th>\n",
       "      <th>z</th>\n",
       "    </tr>\n",
       "  </thead>\n",
       "  <tbody>\n",
       "    <tr>\n",
       "      <th>0,0</th>\n",
       "      <td>0.0</td>\n",
       "      <td>2.316671</td>\n",
       "      <td>2.240985</td>\n",
       "      <td>0.0</td>\n",
       "    </tr>\n",
       "    <tr>\n",
       "      <th>1,1</th>\n",
       "      <td>0.0</td>\n",
       "      <td>-2.380768</td>\n",
       "      <td>5.354967</td>\n",
       "      <td>0.0</td>\n",
       "    </tr>\n",
       "    <tr>\n",
       "      <th>2,2</th>\n",
       "      <td>0.0</td>\n",
       "      <td>-3.516212</td>\n",
       "      <td>6.090257</td>\n",
       "      <td>0.0</td>\n",
       "    </tr>\n",
       "  </tbody>\n",
       "</table>\n",
       "</div>"
      ],
      "text/plain": [
       "       v         x         y    z\n",
       "0,0  0.0  2.316671  2.240985  0.0\n",
       "1,1  0.0 -2.380768  5.354967  0.0\n",
       "2,2  0.0 -3.516212  6.090257  0.0"
      ]
     },
     "execution_count": 235,
     "metadata": {},
     "output_type": "execute_result"
    }
   ],
   "source": [
    "pd.DataFrame.from_dict(d['detected_points'], orient='index')"
   ]
  },
  {
   "cell_type": "code",
   "execution_count": 207,
   "metadata": {},
   "outputs": [
    {
     "name": "stdout",
     "output_type": "stream",
     "text": [
      "610 µs ± 15.8 µs per loop (mean ± std. dev. of 7 runs, 1,000 loops each)\n"
     ]
    }
   ],
   "source": [
    "%%timeit\n",
    "df, ts = pd.DataFrame(), pd.Timestamp.now()\n",
    "idx = 0\n",
    "d = l[0]['dataFrame']\n",
    "for p in d['detected_points'].values():\n",
    "    df = pd.concat([\n",
    "        df,\n",
    "        pd.DataFrame({'x': [p['x']], 'y': [p['y']], 'z':[p['z']], 'v': [p['v']]})\n",
    "    ], ignore_index=True)\n",
    "df = df.assign(frame=0, ts=ts)"
   ]
  },
  {
   "cell_type": "code",
   "execution_count": 227,
   "metadata": {},
   "outputs": [
    {
     "name": "stdout",
     "output_type": "stream",
     "text": [
      "870 µs ± 35.1 µs per loop (mean ± std. dev. of 7 runs, 1,000 loops each)\n"
     ]
    }
   ],
   "source": [
    "%%timeit\n",
    "df, ts = pd.DataFrame(), pd.Timestamp.now()\n",
    "idx = 0\n",
    "d = l[0]['dataFrame']\n",
    "for p in d['detected_points'].values():\n",
    "    df = pd.concat([\n",
    "        df,\n",
    "        pd.DataFrame().from_dict(p, orient='index').T\n",
    "    ], ignore_index=True)\n",
    "df = df.assign(frame=0, ts=ts)\n",
    "df"
   ]
  },
  {
   "cell_type": "code",
   "execution_count": 245,
   "metadata": {},
   "outputs": [
    {
     "name": "stdout",
     "output_type": "stream",
     "text": [
      "294 µs ± 4.09 µs per loop (mean ± std. dev. of 7 runs, 1,000 loops each)\n"
     ]
    }
   ],
   "source": [
    "%%timeit\n",
    "ts = pd.Timestamp.now()\n",
    "idx = 0\n",
    "d = l[0]['dataFrame']\n",
    "df = pd.DataFrame.from_dict(d['detected_points'], orient='index').reset_index(drop=True).assign(frame=0, ts=ts)\n",
    "df"
   ]
  },
  {
   "cell_type": "code",
   "execution_count": null,
   "metadata": {},
   "outputs": [],
   "source": []
  },
  {
   "cell_type": "code",
   "execution_count": 247,
   "metadata": {},
   "outputs": [
    {
     "data": {
      "text/plain": [
       "{'header': {'version': 3060000,\n",
       "  'length': 128,\n",
       "  'platform': 106843,\n",
       "  'number': 1,\n",
       "  'time': 441344463,\n",
       "  'objects': 3,\n",
       "  'blocks': 2,\n",
       "  'subframe': 0},\n",
       " 'detected_points': {'0,0': {'v': 0.0,\n",
       "   'x': 2.3166706562042236,\n",
       "   'y': 2.24098539352417,\n",
       "   'z': 0.0},\n",
       "  '1,1': {'v': 0.0, 'x': -2.380768299102783, 'y': 5.35496711730957, 'z': 0.0},\n",
       "  '2,2': {'v': 0.0, 'x': -3.51621150970459, 'y': 6.090257167816162, 'z': 0.0}}}"
      ]
     },
     "execution_count": 247,
     "metadata": {},
     "output_type": "execute_result"
    }
   ],
   "source": [
    "d"
   ]
  },
  {
   "cell_type": "code",
   "execution_count": null,
   "metadata": {},
   "outputs": [],
   "source": []
  },
  {
   "cell_type": "code",
   "execution_count": 217,
   "metadata": {},
   "outputs": [
    {
     "ename": "KeyError",
     "evalue": "'data'",
     "output_type": "error",
     "traceback": [
      "\u001b[0;31m---------------------------------------------------------------------------\u001b[0m",
      "\u001b[0;31mKeyError\u001b[0m                                  Traceback (most recent call last)",
      "Cell \u001b[0;32mIn[217], line 1\u001b[0m\n\u001b[0;32m----> 1\u001b[0m pd\u001b[39m.\u001b[39;49mDataFrame\u001b[39m.\u001b[39;49mfrom_dict(data\u001b[39m=\u001b[39;49mp, orient\u001b[39m=\u001b[39;49m\u001b[39m'\u001b[39;49m\u001b[39mtight\u001b[39;49m\u001b[39m'\u001b[39;49m)\n",
      "File \u001b[0;32m~/.conda/envs/neu/lib/python3.9/site-packages/pandas/core/frame.py:1766\u001b[0m, in \u001b[0;36mDataFrame.from_dict\u001b[0;34m(cls, data, orient, dtype, columns)\u001b[0m\n\u001b[1;32m   1764\u001b[0m     \u001b[39mreturn\u001b[39;00m \u001b[39mcls\u001b[39m(data, index\u001b[39m=\u001b[39mindex, columns\u001b[39m=\u001b[39mcolumns, dtype\u001b[39m=\u001b[39mdtype)\n\u001b[1;32m   1765\u001b[0m \u001b[39melse\u001b[39;00m:\n\u001b[0;32m-> 1766\u001b[0m     realdata \u001b[39m=\u001b[39m data[\u001b[39m\"\u001b[39;49m\u001b[39mdata\u001b[39;49m\u001b[39m\"\u001b[39;49m]\n\u001b[1;32m   1768\u001b[0m     \u001b[39mdef\u001b[39;00m \u001b[39mcreate_index\u001b[39m(indexlist, namelist):\n\u001b[1;32m   1769\u001b[0m         index: Index\n",
      "\u001b[0;31mKeyError\u001b[0m: 'data'"
     ]
    }
   ],
   "source": [
    "pd.DataFrame.from_dict(data=p, orient='tight')"
   ]
  },
  {
   "cell_type": "code",
   "execution_count": 205,
   "metadata": {},
   "outputs": [
    {
     "name": "stdout",
     "output_type": "stream",
     "text": [
      "92.4 µs ± 3.31 µs per loop (mean ± std. dev. of 7 runs, 10,000 loops each)\n"
     ]
    }
   ],
   "source": [
    "%timeit pd.DataFrame.from_dict(p, orient='index').T"
   ]
  },
  {
   "cell_type": "code",
   "execution_count": 209,
   "metadata": {},
   "outputs": [
    {
     "name": "stdout",
     "output_type": "stream",
     "text": [
      "698 µs ± 9.32 µs per loop (mean ± std. dev. of 7 runs, 1,000 loops each)\n"
     ]
    }
   ],
   "source": [
    "%%timeit\n",
    "df, ts = pd.DataFrame(), pd.Timestamp.now()\n",
    "idx = 0\n",
    "d = l[0]['dataFrame']\n",
    "for p in d['detected_points'].values():\n",
    "    df = pd.concat([\n",
    "        df,\n",
    "        pd.DataFrame.from_dict(p, orient='index').T\n",
    "        #pd.DataFrame(p.values(), columns=['x','y','z','v'])\n",
    "    ], ignore_index=True)\n",
    "df = df.assign(frame=0, ts=ts)"
   ]
  },
  {
   "cell_type": "code",
   "execution_count": null,
   "metadata": {},
   "outputs": [],
   "source": []
  },
  {
   "cell_type": "code",
   "execution_count": 186,
   "metadata": {},
   "outputs": [
    {
     "data": {
      "text/plain": [
       "{'ts': 1679357037769,\n",
       " 'xyzv': [[0.0, 2.3166706562042236, 2.24098539352417, 0.0],\n",
       "  [0.0, -2.380768299102783, 5.35496711730957, 0.0],\n",
       "  [0.0, -3.51621150970459, 6.090257167816162, 0.0]]}"
      ]
     },
     "execution_count": 186,
     "metadata": {},
     "output_type": "execute_result"
    }
   ],
   "source": [
    "{\n",
    "    'ts':   int(ts.to_datetime64().astype(int) / 10**6),  # milliseconds\n",
    "    'xyzv': df[['x','y','z','v']].to_numpy().tolist()\n",
    "}"
   ]
  },
  {
   "cell_type": "code",
   "execution_count": 185,
   "metadata": {},
   "outputs": [
    {
     "name": "stdout",
     "output_type": "stream",
     "text": [
      "818 ns ± 6.51 ns per loop (mean ± std. dev. of 7 runs, 1,000,000 loops each)\n"
     ]
    }
   ],
   "source": [
    "%timeit int(ts.to_datetime64().astype(int) / 10**6)"
   ]
  },
  {
   "cell_type": "code",
   "execution_count": null,
   "metadata": {},
   "outputs": [],
   "source": []
  },
  {
   "cell_type": "code",
   "execution_count": null,
   "metadata": {},
   "outputs": [],
   "source": [
    "\n",
    "def clean_ugly_json_file(file_in: str, file_out: TextIOWrapper) -> None:\n",
    "    \"\"\"\n",
    "        Open shitty horrible trash ill-formatted log files and make them something less terrible.\n",
    "    \"\"\"\n",
    "    \n",
    "    json_in = []\n",
    "    new_data = []\n",
    "\n",
    "    with open(file_in,'r') as f:\n",
    "        for line in f:\n",
    "            try:\n",
    "                json_in.append(json5.loads(line))\n",
    "            except:\n",
    "                pass\n",
    "\n",
    "    idx = 0\n",
    "    out_json = \"\"\n",
    "\n",
    "    for i in json_in:\n",
    "        \n",
    "        lvl, arr = {}, []\n",
    "        lvl['idx'] = int(idx)\n",
    "        lvl['ts'] = int(i['ts'])\n",
    "\n",
    "        for pt in i['dataFrame']['detected_points'].values():\n",
    "            interim_arr = [pt['x'], pt['y'], pt['z'], pt['v']]\n",
    "            arr.append(interim_arr)\n",
    "            # np.array([pt['x'], pt['y'], pt['z'], pt['v']])\n",
    "            #arr = np.append(arr, interim_arr, )\n",
    "\n",
    "        lvl['xyzv'] = arr\n",
    "        #new_data.append(lvl)\n",
    "        out_json = out_json + json5.dumps(lvl, quote_keys=True) + \",\\n\"\n",
    "        idx += 1\n",
    "    \n",
    "    #out_json = json5.dumps(new_data, indent=4, trailing_commas=True)[1:][:-1]\n",
    "    file_out.write(out_json)"
   ]
  }
 ],
 "metadata": {
  "kernelspec": {
   "display_name": "neu",
   "language": "python",
   "name": "python3"
  },
  "language_info": {
   "codemirror_mode": {
    "name": "ipython",
    "version": 3
   },
   "file_extension": ".py",
   "mimetype": "text/x-python",
   "name": "python",
   "nbconvert_exporter": "python",
   "pygments_lexer": "ipython3",
   "version": "3.9.16"
  },
  "orig_nbformat": 4
 },
 "nbformat": 4,
 "nbformat_minor": 2
}
