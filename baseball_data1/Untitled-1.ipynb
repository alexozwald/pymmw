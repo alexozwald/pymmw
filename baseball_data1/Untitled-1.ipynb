{
 "cells": [
  {
   "cell_type": "code",
   "execution_count": 1,
   "metadata": {},
   "outputs": [],
   "source": [
    "import pandas as pd"
   ]
  },
  {
   "cell_type": "code",
   "execution_count": 3,
   "metadata": {},
   "outputs": [],
   "source": [
    "df = pd.read_csv(\"/Users/alex/Downloads/query.csv\", engine='pyarrow')"
   ]
  },
  {
   "cell_type": "code",
   "execution_count": 7,
   "metadata": {},
   "outputs": [
    {
     "data": {
      "text/plain": [
       "0       ET-DD\n",
       "1       ET-AF\n",
       "3       JP-02\n",
       "4       JP-07\n",
       "5       JP-12\n",
       "        ...  \n",
       "4409    SO-TO\n",
       "4410    CS-SR\n",
       "4411    YU-SR\n",
       "4412    CS-CG\n",
       "4413    YU-CG\n",
       "Name: regionIsoCode, Length: 3786, dtype: object"
      ]
     },
     "execution_count": 7,
     "metadata": {},
     "output_type": "execute_result"
    }
   ],
   "source": [
    "df['regionIsoCode'].drop_duplicates()"
   ]
  },
  {
   "cell_type": "code",
   "execution_count": 8,
   "metadata": {},
   "outputs": [],
   "source": [
    "dff = pd.read_csv(\"/Users/alex/Downloads/query-2.csv\")"
   ]
  },
  {
   "cell_type": "code",
   "execution_count": 12,
   "metadata": {},
   "outputs": [
    {
     "data": {
      "text/plain": [
       "HR-14     1\n",
       "JP-16     1\n",
       "JP-18     1\n",
       "JP-11     1\n",
       "HU-VA     1\n",
       "         ..\n",
       "YU-SR     1\n",
       "CS-CG     1\n",
       "DO-22     1\n",
       "RW-01     2\n",
       "LV-099    2\n",
       "Name: regionIsoCode, Length: 3786, dtype: int64"
      ]
     },
     "execution_count": 12,
     "metadata": {},
     "output_type": "execute_result"
    }
   ],
   "source": [
    "dff['regionIsoCode'].value_counts().sort_values()"
   ]
  },
  {
   "cell_type": "code",
   "execution_count": 13,
   "metadata": {},
   "outputs": [
    {
     "data": {
      "text/html": [
       "<div>\n",
       "<style scoped>\n",
       "    .dataframe tbody tr th:only-of-type {\n",
       "        vertical-align: middle;\n",
       "    }\n",
       "\n",
       "    .dataframe tbody tr th {\n",
       "        vertical-align: top;\n",
       "    }\n",
       "\n",
       "    .dataframe thead th {\n",
       "        text-align: right;\n",
       "    }\n",
       "</style>\n",
       "<table border=\"1\" class=\"dataframe\">\n",
       "  <thead>\n",
       "    <tr style=\"text-align: right;\">\n",
       "      <th></th>\n",
       "      <th>countryIsoCode</th>\n",
       "      <th>regionIsoCode</th>\n",
       "      <th>regionLabel</th>\n",
       "    </tr>\n",
       "  </thead>\n",
       "  <tbody>\n",
       "    <tr>\n",
       "      <th>909</th>\n",
       "      <td>RW</td>\n",
       "      <td>RW-01</td>\n",
       "      <td>Kigali province</td>\n",
       "    </tr>\n",
       "    <tr>\n",
       "      <th>1392</th>\n",
       "      <td>LV</td>\n",
       "      <td>LV-099</td>\n",
       "      <td>Tukums Municipality  (2009-2021)</td>\n",
       "    </tr>\n",
       "    <tr>\n",
       "      <th>1519</th>\n",
       "      <td>LV</td>\n",
       "      <td>LV-099</td>\n",
       "      <td>Tukums Municipality</td>\n",
       "    </tr>\n",
       "    <tr>\n",
       "      <th>3325</th>\n",
       "      <td>RW</td>\n",
       "      <td>RW-01</td>\n",
       "      <td>Kigali</td>\n",
       "    </tr>\n",
       "  </tbody>\n",
       "</table>\n",
       "</div>"
      ],
      "text/plain": [
       "     countryIsoCode regionIsoCode                       regionLabel\n",
       "909              RW         RW-01                   Kigali province\n",
       "1392             LV        LV-099  Tukums Municipality  (2009-2021)\n",
       "1519             LV        LV-099               Tukums Municipality\n",
       "3325             RW         RW-01                            Kigali"
      ]
     },
     "execution_count": 13,
     "metadata": {},
     "output_type": "execute_result"
    }
   ],
   "source": [
    "dff.loc[dff['regionIsoCode'].isin(['RW-01','LV-099'])]"
   ]
  }
 ],
 "metadata": {
  "kernelspec": {
   "display_name": "neu",
   "language": "python",
   "name": "python3"
  },
  "language_info": {
   "codemirror_mode": {
    "name": "ipython",
    "version": 3
   },
   "file_extension": ".py",
   "mimetype": "text/x-python",
   "name": "python",
   "nbconvert_exporter": "python",
   "pygments_lexer": "ipython3",
   "version": "3.9.16"
  },
  "orig_nbformat": 4,
  "vscode": {
   "interpreter": {
    "hash": "28cb929f5309d70f0df62fcb559b6451448fc609f2352aa39f9f5e632d6fd67c"
   }
  }
 },
 "nbformat": 4,
 "nbformat_minor": 2
}
